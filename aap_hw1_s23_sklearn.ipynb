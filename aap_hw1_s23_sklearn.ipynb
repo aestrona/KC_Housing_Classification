{
 "cells": [
  {
   "cell_type": "markdown",
   "id": "99b2bda9-61ef-45ea-a67b-4bedba8f63be",
   "metadata": {},
   "source": [
    "## Preliminary Data Prep\n",
    "In order to use this data for a classification problem, I did some data prep work. Our target variable is a new variable that I created called `price_gt_1M` which is a binary variable:\n",
    "\n",
    "* 1 - house price is greater than or equal to 1 million dollars\n",
    "* 0 - house price is less than a million dollars\n",
    "\n",
    "The data for this classification problem can be found in `./data/kc_house_data_classification.csv`.\n",
    "\n",
    "If you want to see my data prep code, see the `hw1_sklearn_dataprep.ipynb` notebook."
   ]
  },
  {
   "cell_type": "markdown",
   "id": "5a2a3b77-cd10-454e-bb65-cebbfb51ae3c",
   "metadata": {
    "tags": []
   },
   "source": [
    "## The Problem\n",
    "\n",
    "Our overall goal is to build classifier models to predict `price_gt_1M` using the the other variables. You must use sklearn Pipelines that contain your preprocessing steps and your model estimation step. We did this in the class notes.\n",
    "\n",
    "You should do your work in a Jupyter Notebook."
   ]
  },
  {
   "cell_type": "markdown",
   "id": "e78147e4-e1c0-4175-ab38-c05b52514037",
   "metadata": {
    "jp-MarkdownHeadingCollapsed": true,
    "tags": []
   },
   "source": [
    "### Task 1 - Folder structure\n",
    "\n",
    "Start by creating a new project folder structure with the `cookiecutter-datascience-simple` template that I covered in Module 1. Put the data files into an appropriate folder and put this notebook in the main project folder. Any additional notebooks and/or Python files you end up creating should go in the main project folder. "
   ]
  },
  {
   "cell_type": "markdown",
   "id": "225ea0e1-f002-4cc3-a8b3-847872f89d01",
   "metadata": {
    "jp-MarkdownHeadingCollapsed": true,
    "tags": []
   },
   "source": [
    "### Task 2 - Version control\n",
    "\n",
    "Put your new project folder under version control using git. You should **NOT** track the data file. You must track all notebooks, Python scripts or additional text files you end up creating. Put appropriate information into your readme file."
   ]
  },
  {
   "cell_type": "markdown",
   "id": "6ef43a51-cc77-4fb0-863e-ec3f4a74a646",
   "metadata": {
    "tags": []
   },
   "source": [
    "### Task 3 - EDA\n",
    "\n",
    "I suggest you start by reading the csv file into a pandas dataframe. I called my dataframe, `housing_df`.\n",
    "Then start with some basic EDA. You can certainly use automated tools such as pandas-profiling, skimpy or SweetViz as I showed in the class notes. Remember, when you run some of those tools, you **must** have your notebook open in the classic Jupyter Notebook interface (and **NOT** in Jupyter Lab) Check their docs to see if Jupyter Lab is supported yet. I pip installed SweetViz and it seems to be working fine now with Jupyter Lab. As we've seen, the reports get created as HTML documents. These should go in your output folder within your project."
   ]
  },
  {
   "cell_type": "code",
   "execution_count": 1,
   "id": "d238426e-b082-420e-8fb8-07afd7f707bf",
   "metadata": {},
   "outputs": [],
   "source": [
    "import numpy as np\n",
    "import pandas as pd\n",
    "import matplotlib.pyplot as plt\n",
    "import seaborn as sns\n",
    "import sweetviz as sv"
   ]
  },
  {
   "cell_type": "code",
   "execution_count": 2,
   "id": "f799cb59-37ab-48e7-893f-c24714720f95",
   "metadata": {},
   "outputs": [],
   "source": [
    "%matplotlib inline"
   ]
  },
  {
   "cell_type": "code",
   "execution_count": 3,
   "id": "aa126314-26f7-42da-9db9-7809ee50a09f",
   "metadata": {},
   "outputs": [],
   "source": [
    "kc_house_df = pd.read_csv(\"data/kc_house_data_classification.csv\")"
   ]
  },
  {
   "cell_type": "code",
   "execution_count": 4,
   "id": "caf836c0-2bd2-49e7-afd0-381870f61e4b",
   "metadata": {},
   "outputs": [
    {
     "name": "stderr",
     "output_type": "stream",
     "text": [
      "/Users/anthonystronati/anaconda3/lib/python3.10/site-packages/sweetviz/dataframe_report.py:74: FutureWarning: iteritems is deprecated and will be removed in a future version. Use .items instead.\n",
      "  all_source_names = [cur_name for cur_name, cur_series in source_df.iteritems()]\n",
      "/Users/anthonystronati/anaconda3/lib/python3.10/site-packages/sweetviz/dataframe_report.py:109: FutureWarning: iteritems is deprecated and will be removed in a future version. Use .items instead.\n",
      "  filtered_series_names_in_source = [cur_name for cur_name, cur_series in source_df.iteritems()\n"
     ]
    },
    {
     "data": {
      "application/vnd.jupyter.widget-view+json": {
       "model_id": "84834d43700a430c91e0e4d273cb1440",
       "version_major": 2,
       "version_minor": 0
      },
      "text/plain": [
       "                                             |      | [  0%]   00:00 -> (? left)"
      ]
     },
     "metadata": {},
     "output_type": "display_data"
    },
    {
     "name": "stderr",
     "output_type": "stream",
     "text": [
      "/Users/anthonystronati/anaconda3/lib/python3.10/site-packages/sweetviz/series_analyzer_numeric.py:25: FutureWarning: The 'mad' method is deprecated and will be removed in a future version. To compute the same result, you may do `(df - df.mean()).abs().mean()`.\n",
      "  stats[\"mad\"] = series.mad()\n",
      "/Users/anthonystronati/anaconda3/lib/python3.10/site-packages/sweetviz/series_analyzer_numeric.py:25: FutureWarning: The 'mad' method is deprecated and will be removed in a future version. To compute the same result, you may do `(df - df.mean()).abs().mean()`.\n",
      "  stats[\"mad\"] = series.mad()\n",
      "/Users/anthonystronati/anaconda3/lib/python3.10/site-packages/sweetviz/series_analyzer_numeric.py:25: FutureWarning: The 'mad' method is deprecated and will be removed in a future version. To compute the same result, you may do `(df - df.mean()).abs().mean()`.\n",
      "  stats[\"mad\"] = series.mad()\n",
      "/Users/anthonystronati/anaconda3/lib/python3.10/site-packages/sweetviz/series_analyzer_numeric.py:25: FutureWarning: The 'mad' method is deprecated and will be removed in a future version. To compute the same result, you may do `(df - df.mean()).abs().mean()`.\n",
      "  stats[\"mad\"] = series.mad()\n",
      "/Users/anthonystronati/anaconda3/lib/python3.10/site-packages/sweetviz/series_analyzer_cat.py:28: FutureWarning: iteritems is deprecated and will be removed in a future version. Use .items instead.\n",
      "  for item in category_counts.iteritems():\n",
      "/Users/anthonystronati/anaconda3/lib/python3.10/site-packages/sweetviz/series_analyzer_cat.py:28: FutureWarning: iteritems is deprecated and will be removed in a future version. Use .items instead.\n",
      "  for item in category_counts.iteritems():\n",
      "/Users/anthonystronati/anaconda3/lib/python3.10/site-packages/sweetviz/series_analyzer_cat.py:28: FutureWarning: iteritems is deprecated and will be removed in a future version. Use .items instead.\n",
      "  for item in category_counts.iteritems():\n",
      "/Users/anthonystronati/anaconda3/lib/python3.10/site-packages/sweetviz/series_analyzer_cat.py:28: FutureWarning: iteritems is deprecated and will be removed in a future version. Use .items instead.\n",
      "  for item in category_counts.iteritems():\n",
      "/Users/anthonystronati/anaconda3/lib/python3.10/site-packages/sweetviz/series_analyzer_numeric.py:25: FutureWarning: The 'mad' method is deprecated and will be removed in a future version. To compute the same result, you may do `(df - df.mean()).abs().mean()`.\n",
      "  stats[\"mad\"] = series.mad()\n",
      "/Users/anthonystronati/anaconda3/lib/python3.10/site-packages/sweetviz/series_analyzer_numeric.py:25: FutureWarning: The 'mad' method is deprecated and will be removed in a future version. To compute the same result, you may do `(df - df.mean()).abs().mean()`.\n",
      "  stats[\"mad\"] = series.mad()\n",
      "/Users/anthonystronati/anaconda3/lib/python3.10/site-packages/sweetviz/series_analyzer_numeric.py:25: FutureWarning: The 'mad' method is deprecated and will be removed in a future version. To compute the same result, you may do `(df - df.mean()).abs().mean()`.\n",
      "  stats[\"mad\"] = series.mad()\n",
      "/Users/anthonystronati/anaconda3/lib/python3.10/site-packages/sweetviz/series_analyzer_numeric.py:25: FutureWarning: The 'mad' method is deprecated and will be removed in a future version. To compute the same result, you may do `(df - df.mean()).abs().mean()`.\n",
      "  stats[\"mad\"] = series.mad()\n",
      "/Users/anthonystronati/anaconda3/lib/python3.10/site-packages/sweetviz/series_analyzer_numeric.py:25: FutureWarning: The 'mad' method is deprecated and will be removed in a future version. To compute the same result, you may do `(df - df.mean()).abs().mean()`.\n",
      "  stats[\"mad\"] = series.mad()\n",
      "/Users/anthonystronati/anaconda3/lib/python3.10/site-packages/sweetviz/series_analyzer_numeric.py:25: FutureWarning: The 'mad' method is deprecated and will be removed in a future version. To compute the same result, you may do `(df - df.mean()).abs().mean()`.\n",
      "  stats[\"mad\"] = series.mad()\n",
      "/Users/anthonystronati/anaconda3/lib/python3.10/site-packages/sweetviz/series_analyzer_numeric.py:25: FutureWarning: The 'mad' method is deprecated and will be removed in a future version. To compute the same result, you may do `(df - df.mean()).abs().mean()`.\n",
      "  stats[\"mad\"] = series.mad()\n",
      "/Users/anthonystronati/anaconda3/lib/python3.10/site-packages/sweetviz/series_analyzer_numeric.py:25: FutureWarning: The 'mad' method is deprecated and will be removed in a future version. To compute the same result, you may do `(df - df.mean()).abs().mean()`.\n",
      "  stats[\"mad\"] = series.mad()\n",
      "/Users/anthonystronati/anaconda3/lib/python3.10/site-packages/sweetviz/series_analyzer_numeric.py:25: FutureWarning: The 'mad' method is deprecated and will be removed in a future version. To compute the same result, you may do `(df - df.mean()).abs().mean()`.\n",
      "  stats[\"mad\"] = series.mad()\n",
      "/Users/anthonystronati/anaconda3/lib/python3.10/site-packages/sweetviz/series_analyzer_numeric.py:25: FutureWarning: The 'mad' method is deprecated and will be removed in a future version. To compute the same result, you may do `(df - df.mean()).abs().mean()`.\n",
      "  stats[\"mad\"] = series.mad()\n",
      "/Users/anthonystronati/anaconda3/lib/python3.10/site-packages/sweetviz/series_analyzer_cat.py:28: FutureWarning: iteritems is deprecated and will be removed in a future version. Use .items instead.\n",
      "  for item in category_counts.iteritems():\n"
     ]
    }
   ],
   "source": [
    "report = sv.analyze(kc_house_df)"
   ]
  },
  {
   "cell_type": "code",
   "execution_count": 5,
   "id": "1906a8bd-b5f7-4ed7-b9d9-69d1aca07a53",
   "metadata": {},
   "outputs": [
    {
     "name": "stdout",
     "output_type": "stream",
     "text": [
      "Report output/sweetviz_report.html was generated! NOTEBOOK/COLAB USERS: the web browser MAY not pop up, regardless, the report IS saved in your notebook/colab files.\n"
     ]
    }
   ],
   "source": [
    "report.show_html(\"output/sweetviz_report.html\")"
   ]
  },
  {
   "cell_type": "markdown",
   "id": "93ebd035-5afa-48e0-8a7e-e25b7bbe28b4",
   "metadata": {
    "tags": []
   },
   "source": [
    "### Task 4 - Categorize feature types\n",
    "\n",
    "As we did in the Pump it Up class notes, we are going to need to create a list of categorical variables and a list of numeric variables so that we\n",
    "can apply the appropriate pre-processing to each. In the notes we used the data type of the columns to create lists of numeric and categorical variables. That's not necessarily going to work here as all the variables will come in as numeric. So, you'll have to come up with another way to create lists of the categorical variables and the numeric variables. \n",
    "\n",
    "Since we are using regularization, all of the numeric variables will need to rescaled using the `StandardScaler`. You'll do this later as part of the `Pipeline`. For any variables that you decide should be treated as categorical in your models, use the `OneHotEncoder` on them in the preprocessing stage.\n",
    "\n",
    "Be careful, just because a variable has a numeric datatype in the pandas dataframe, it does **not** mean that it's necessarily a numeric variable in the context of the classification models. Think about each column and look at your EDA reports and decide whether or not it's truly numeric or needs to be treated as categorical data in the models.  \n",
    "\n",
    "Even though our target variable, `price_gt_1M`, is categorical, you do **NOT** need to do any preprocessing on it. As I mentioned in our class notes, scikit-learn will automatically detect that and will do any encoding needed on its own.\n",
    "\n",
    "Finally, you'll partition the dataset into training and test datasets for modeling: \n",
    "\n",
    "* I broke up the `housing_df` into two separate dataframes that I called `X` and `y`, to use in the models. Here's my code for that:\n",
    "\n",
    "```\n",
    "X = housing_df.iloc[:, 0:18]\n",
    "y = housing_df.iloc[:, 18]\n",
    "```\n",
    "\n",
    "* Please use the following code for your data partitioning so that we all end up with the same training and test split:\n",
    "\n",
    "```\n",
    "X_train, X_test, y_train, y_test = train_test_split(X, y, test_size=0.2, random_state=73)\n",
    "```"
   ]
  },
  {
   "cell_type": "code",
   "execution_count": 4,
   "id": "69f4465b-d9d0-434e-8989-69883892c11c",
   "metadata": {},
   "outputs": [
    {
     "data": {
      "text/plain": [
       "bedrooms           int64\n",
       "bathrooms        float64\n",
       "sqft_living        int64\n",
       "sqft_lot           int64\n",
       "floors           float64\n",
       "waterfront         int64\n",
       "view               int64\n",
       "condition          int64\n",
       "grade              int64\n",
       "sqft_above         int64\n",
       "sqft_basement      int64\n",
       "yr_built           int64\n",
       "yr_renovated       int64\n",
       "zipcode            int64\n",
       "lat              float64\n",
       "long             float64\n",
       "sqft_living15      int64\n",
       "sqft_lot15         int64\n",
       "price_gt_1M        int64\n",
       "dtype: object"
      ]
     },
     "execution_count": 4,
     "metadata": {},
     "output_type": "execute_result"
    }
   ],
   "source": [
    "kc_house_df.dtypes"
   ]
  },
  {
   "cell_type": "code",
   "execution_count": 5,
   "id": "75066e56-e511-4184-a2c5-bc3e1bb8862b",
   "metadata": {},
   "outputs": [],
   "source": [
    "# Set a limit for the number of unique values\n",
    "unique_limit = 30 # I just keep changing this number until it gave me a list of catigorical I liked. \n",
    "\n",
    "# create variables\n",
    "categorical_vars = []\n",
    "numeric_vars = []\n",
    "\n",
    "# loop through all columns\n",
    "for column in kc_house_df.columns:\n",
    "    unique_values = kc_house_df[column].nunique()  # Count the number of unique values\n",
    "    \n",
    "    if unique_values <= unique_limit:\n",
    "        categorical_vars.append(column)\n",
    "    else:\n",
    "        numeric_vars.append(column)\n"
   ]
  },
  {
   "cell_type": "code",
   "execution_count": 6,
   "id": "60a6e67f-acdd-4fc7-83f0-6998040760bc",
   "metadata": {},
   "outputs": [
    {
     "data": {
      "text/plain": [
       "['bedrooms',\n",
       " 'bathrooms',\n",
       " 'floors',\n",
       " 'waterfront',\n",
       " 'view',\n",
       " 'condition',\n",
       " 'grade',\n",
       " 'price_gt_1M']"
      ]
     },
     "execution_count": 6,
     "metadata": {},
     "output_type": "execute_result"
    }
   ],
   "source": [
    "categorical_vars"
   ]
  },
  {
   "cell_type": "code",
   "execution_count": 7,
   "id": "f7534a37-84d4-4a12-ac79-920abe121897",
   "metadata": {},
   "outputs": [
    {
     "data": {
      "text/plain": [
       "['sqft_living',\n",
       " 'sqft_lot',\n",
       " 'sqft_above',\n",
       " 'sqft_basement',\n",
       " 'yr_built',\n",
       " 'yr_renovated',\n",
       " 'zipcode',\n",
       " 'lat',\n",
       " 'long',\n",
       " 'sqft_living15',\n",
       " 'sqft_lot15']"
      ]
     },
     "execution_count": 7,
     "metadata": {},
     "output_type": "execute_result"
    }
   ],
   "source": [
    "numeric_vars"
   ]
  },
  {
   "cell_type": "code",
   "execution_count": 156,
   "id": "b6e47fb4-b563-4b20-a1a9-8fbeffe0fc18",
   "metadata": {},
   "outputs": [],
   "source": [
    "categorical_vars = ['bedrooms','bathrooms','floors','waterfront','view','condition','grade','yr_built','yr_renovated','zipcode']\n",
    "numeric_vars = ['sqft_living','sqft_lot','sqft_above','sqft_basement','lat','long','sqft_living15','sqft_lot15']\n",
    "\n"
   ]
  },
  {
   "cell_type": "code",
   "execution_count": 157,
   "id": "696dddcf-d390-49b0-997a-d48075a3d91e",
   "metadata": {},
   "outputs": [
    {
     "data": {
      "text/html": [
       "<div>\n",
       "<style scoped>\n",
       "    .dataframe tbody tr th:only-of-type {\n",
       "        vertical-align: middle;\n",
       "    }\n",
       "\n",
       "    .dataframe tbody tr th {\n",
       "        vertical-align: top;\n",
       "    }\n",
       "\n",
       "    .dataframe thead th {\n",
       "        text-align: right;\n",
       "    }\n",
       "</style>\n",
       "<table border=\"1\" class=\"dataframe\">\n",
       "  <thead>\n",
       "    <tr style=\"text-align: right;\">\n",
       "      <th></th>\n",
       "      <th>bedrooms</th>\n",
       "      <th>bathrooms</th>\n",
       "      <th>floors</th>\n",
       "      <th>waterfront</th>\n",
       "      <th>view</th>\n",
       "      <th>condition</th>\n",
       "      <th>grade</th>\n",
       "      <th>yr_built</th>\n",
       "      <th>yr_renovated</th>\n",
       "      <th>zipcode</th>\n",
       "    </tr>\n",
       "  </thead>\n",
       "  <tbody>\n",
       "    <tr>\n",
       "      <th>count</th>\n",
       "      <td>21613.000000</td>\n",
       "      <td>21613.000000</td>\n",
       "      <td>21613.000000</td>\n",
       "      <td>21613.000000</td>\n",
       "      <td>21613.000000</td>\n",
       "      <td>21613.000000</td>\n",
       "      <td>21613.000000</td>\n",
       "      <td>21613.000000</td>\n",
       "      <td>21613.000000</td>\n",
       "      <td>21613.000000</td>\n",
       "    </tr>\n",
       "    <tr>\n",
       "      <th>mean</th>\n",
       "      <td>3.370842</td>\n",
       "      <td>2.114757</td>\n",
       "      <td>1.494309</td>\n",
       "      <td>0.007542</td>\n",
       "      <td>0.234303</td>\n",
       "      <td>3.409430</td>\n",
       "      <td>7.656873</td>\n",
       "      <td>1971.005136</td>\n",
       "      <td>84.402258</td>\n",
       "      <td>98077.939805</td>\n",
       "    </tr>\n",
       "    <tr>\n",
       "      <th>std</th>\n",
       "      <td>0.930062</td>\n",
       "      <td>0.770163</td>\n",
       "      <td>0.539989</td>\n",
       "      <td>0.086517</td>\n",
       "      <td>0.766318</td>\n",
       "      <td>0.650743</td>\n",
       "      <td>1.175459</td>\n",
       "      <td>29.373411</td>\n",
       "      <td>401.679240</td>\n",
       "      <td>53.505026</td>\n",
       "    </tr>\n",
       "    <tr>\n",
       "      <th>min</th>\n",
       "      <td>0.000000</td>\n",
       "      <td>0.000000</td>\n",
       "      <td>1.000000</td>\n",
       "      <td>0.000000</td>\n",
       "      <td>0.000000</td>\n",
       "      <td>1.000000</td>\n",
       "      <td>1.000000</td>\n",
       "      <td>1900.000000</td>\n",
       "      <td>0.000000</td>\n",
       "      <td>98001.000000</td>\n",
       "    </tr>\n",
       "    <tr>\n",
       "      <th>25%</th>\n",
       "      <td>3.000000</td>\n",
       "      <td>1.750000</td>\n",
       "      <td>1.000000</td>\n",
       "      <td>0.000000</td>\n",
       "      <td>0.000000</td>\n",
       "      <td>3.000000</td>\n",
       "      <td>7.000000</td>\n",
       "      <td>1951.000000</td>\n",
       "      <td>0.000000</td>\n",
       "      <td>98033.000000</td>\n",
       "    </tr>\n",
       "    <tr>\n",
       "      <th>50%</th>\n",
       "      <td>3.000000</td>\n",
       "      <td>2.250000</td>\n",
       "      <td>1.500000</td>\n",
       "      <td>0.000000</td>\n",
       "      <td>0.000000</td>\n",
       "      <td>3.000000</td>\n",
       "      <td>7.000000</td>\n",
       "      <td>1975.000000</td>\n",
       "      <td>0.000000</td>\n",
       "      <td>98065.000000</td>\n",
       "    </tr>\n",
       "    <tr>\n",
       "      <th>75%</th>\n",
       "      <td>4.000000</td>\n",
       "      <td>2.500000</td>\n",
       "      <td>2.000000</td>\n",
       "      <td>0.000000</td>\n",
       "      <td>0.000000</td>\n",
       "      <td>4.000000</td>\n",
       "      <td>8.000000</td>\n",
       "      <td>1997.000000</td>\n",
       "      <td>0.000000</td>\n",
       "      <td>98118.000000</td>\n",
       "    </tr>\n",
       "    <tr>\n",
       "      <th>max</th>\n",
       "      <td>33.000000</td>\n",
       "      <td>8.000000</td>\n",
       "      <td>3.500000</td>\n",
       "      <td>1.000000</td>\n",
       "      <td>4.000000</td>\n",
       "      <td>5.000000</td>\n",
       "      <td>13.000000</td>\n",
       "      <td>2015.000000</td>\n",
       "      <td>2015.000000</td>\n",
       "      <td>98199.000000</td>\n",
       "    </tr>\n",
       "  </tbody>\n",
       "</table>\n",
       "</div>"
      ],
      "text/plain": [
       "           bedrooms     bathrooms        floors    waterfront          view  \\\n",
       "count  21613.000000  21613.000000  21613.000000  21613.000000  21613.000000   \n",
       "mean       3.370842      2.114757      1.494309      0.007542      0.234303   \n",
       "std        0.930062      0.770163      0.539989      0.086517      0.766318   \n",
       "min        0.000000      0.000000      1.000000      0.000000      0.000000   \n",
       "25%        3.000000      1.750000      1.000000      0.000000      0.000000   \n",
       "50%        3.000000      2.250000      1.500000      0.000000      0.000000   \n",
       "75%        4.000000      2.500000      2.000000      0.000000      0.000000   \n",
       "max       33.000000      8.000000      3.500000      1.000000      4.000000   \n",
       "\n",
       "          condition         grade      yr_built  yr_renovated       zipcode  \n",
       "count  21613.000000  21613.000000  21613.000000  21613.000000  21613.000000  \n",
       "mean       3.409430      7.656873   1971.005136     84.402258  98077.939805  \n",
       "std        0.650743      1.175459     29.373411    401.679240     53.505026  \n",
       "min        1.000000      1.000000   1900.000000      0.000000  98001.000000  \n",
       "25%        3.000000      7.000000   1951.000000      0.000000  98033.000000  \n",
       "50%        3.000000      7.000000   1975.000000      0.000000  98065.000000  \n",
       "75%        4.000000      8.000000   1997.000000      0.000000  98118.000000  \n",
       "max        5.000000     13.000000   2015.000000   2015.000000  98199.000000  "
      ]
     },
     "execution_count": 157,
     "metadata": {},
     "output_type": "execute_result"
    }
   ],
   "source": [
    "kc_house_df.loc[:, categorical_vars].describe()"
   ]
  },
  {
   "cell_type": "code",
   "execution_count": 158,
   "id": "71b3c9f9-d96e-459b-b68b-75030ab6e7d3",
   "metadata": {},
   "outputs": [
    {
     "data": {
      "text/html": [
       "<div>\n",
       "<style scoped>\n",
       "    .dataframe tbody tr th:only-of-type {\n",
       "        vertical-align: middle;\n",
       "    }\n",
       "\n",
       "    .dataframe tbody tr th {\n",
       "        vertical-align: top;\n",
       "    }\n",
       "\n",
       "    .dataframe thead th {\n",
       "        text-align: right;\n",
       "    }\n",
       "</style>\n",
       "<table border=\"1\" class=\"dataframe\">\n",
       "  <thead>\n",
       "    <tr style=\"text-align: right;\">\n",
       "      <th></th>\n",
       "      <th>sqft_living</th>\n",
       "      <th>sqft_lot</th>\n",
       "      <th>sqft_above</th>\n",
       "      <th>sqft_basement</th>\n",
       "      <th>lat</th>\n",
       "      <th>long</th>\n",
       "      <th>sqft_living15</th>\n",
       "      <th>sqft_lot15</th>\n",
       "    </tr>\n",
       "  </thead>\n",
       "  <tbody>\n",
       "    <tr>\n",
       "      <th>count</th>\n",
       "      <td>21613.000000</td>\n",
       "      <td>2.161300e+04</td>\n",
       "      <td>21613.000000</td>\n",
       "      <td>21613.000000</td>\n",
       "      <td>21613.000000</td>\n",
       "      <td>21613.000000</td>\n",
       "      <td>21613.000000</td>\n",
       "      <td>21613.000000</td>\n",
       "    </tr>\n",
       "    <tr>\n",
       "      <th>mean</th>\n",
       "      <td>2079.899736</td>\n",
       "      <td>1.510697e+04</td>\n",
       "      <td>1788.390691</td>\n",
       "      <td>291.509045</td>\n",
       "      <td>47.560053</td>\n",
       "      <td>-122.213896</td>\n",
       "      <td>1986.552492</td>\n",
       "      <td>12768.455652</td>\n",
       "    </tr>\n",
       "    <tr>\n",
       "      <th>std</th>\n",
       "      <td>918.440897</td>\n",
       "      <td>4.142051e+04</td>\n",
       "      <td>828.090978</td>\n",
       "      <td>442.575043</td>\n",
       "      <td>0.138564</td>\n",
       "      <td>0.140828</td>\n",
       "      <td>685.391304</td>\n",
       "      <td>27304.179631</td>\n",
       "    </tr>\n",
       "    <tr>\n",
       "      <th>min</th>\n",
       "      <td>290.000000</td>\n",
       "      <td>5.200000e+02</td>\n",
       "      <td>290.000000</td>\n",
       "      <td>0.000000</td>\n",
       "      <td>47.155900</td>\n",
       "      <td>-122.519000</td>\n",
       "      <td>399.000000</td>\n",
       "      <td>651.000000</td>\n",
       "    </tr>\n",
       "    <tr>\n",
       "      <th>25%</th>\n",
       "      <td>1427.000000</td>\n",
       "      <td>5.040000e+03</td>\n",
       "      <td>1190.000000</td>\n",
       "      <td>0.000000</td>\n",
       "      <td>47.471000</td>\n",
       "      <td>-122.328000</td>\n",
       "      <td>1490.000000</td>\n",
       "      <td>5100.000000</td>\n",
       "    </tr>\n",
       "    <tr>\n",
       "      <th>50%</th>\n",
       "      <td>1910.000000</td>\n",
       "      <td>7.618000e+03</td>\n",
       "      <td>1560.000000</td>\n",
       "      <td>0.000000</td>\n",
       "      <td>47.571800</td>\n",
       "      <td>-122.230000</td>\n",
       "      <td>1840.000000</td>\n",
       "      <td>7620.000000</td>\n",
       "    </tr>\n",
       "    <tr>\n",
       "      <th>75%</th>\n",
       "      <td>2550.000000</td>\n",
       "      <td>1.068800e+04</td>\n",
       "      <td>2210.000000</td>\n",
       "      <td>560.000000</td>\n",
       "      <td>47.678000</td>\n",
       "      <td>-122.125000</td>\n",
       "      <td>2360.000000</td>\n",
       "      <td>10083.000000</td>\n",
       "    </tr>\n",
       "    <tr>\n",
       "      <th>max</th>\n",
       "      <td>13540.000000</td>\n",
       "      <td>1.651359e+06</td>\n",
       "      <td>9410.000000</td>\n",
       "      <td>4820.000000</td>\n",
       "      <td>47.777600</td>\n",
       "      <td>-121.315000</td>\n",
       "      <td>6210.000000</td>\n",
       "      <td>871200.000000</td>\n",
       "    </tr>\n",
       "  </tbody>\n",
       "</table>\n",
       "</div>"
      ],
      "text/plain": [
       "        sqft_living      sqft_lot    sqft_above  sqft_basement           lat  \\\n",
       "count  21613.000000  2.161300e+04  21613.000000   21613.000000  21613.000000   \n",
       "mean    2079.899736  1.510697e+04   1788.390691     291.509045     47.560053   \n",
       "std      918.440897  4.142051e+04    828.090978     442.575043      0.138564   \n",
       "min      290.000000  5.200000e+02    290.000000       0.000000     47.155900   \n",
       "25%     1427.000000  5.040000e+03   1190.000000       0.000000     47.471000   \n",
       "50%     1910.000000  7.618000e+03   1560.000000       0.000000     47.571800   \n",
       "75%     2550.000000  1.068800e+04   2210.000000     560.000000     47.678000   \n",
       "max    13540.000000  1.651359e+06   9410.000000    4820.000000     47.777600   \n",
       "\n",
       "               long  sqft_living15     sqft_lot15  \n",
       "count  21613.000000   21613.000000   21613.000000  \n",
       "mean    -122.213896    1986.552492   12768.455652  \n",
       "std        0.140828     685.391304   27304.179631  \n",
       "min     -122.519000     399.000000     651.000000  \n",
       "25%     -122.328000    1490.000000    5100.000000  \n",
       "50%     -122.230000    1840.000000    7620.000000  \n",
       "75%     -122.125000    2360.000000   10083.000000  \n",
       "max     -121.315000    6210.000000  871200.000000  "
      ]
     },
     "execution_count": 158,
     "metadata": {},
     "output_type": "execute_result"
    }
   ],
   "source": [
    "kc_house_df.loc[:, numeric_vars].describe()"
   ]
  },
  {
   "cell_type": "code",
   "execution_count": 159,
   "id": "cb5c1f20-0c9b-4691-90cb-90c5e3f85c27",
   "metadata": {},
   "outputs": [
    {
     "data": {
      "text/plain": [
       "[0, 1, 4, 5, 6, 7, 8, 11, 12, 13]"
      ]
     },
     "execution_count": 159,
     "metadata": {},
     "output_type": "execute_result"
    }
   ],
   "source": [
    "categorical_vars_idx = [kc_house_df.columns.get_loc(c) for c in categorical_vars]\n",
    "categorical_vars_idx"
   ]
  },
  {
   "cell_type": "code",
   "execution_count": 160,
   "id": "0f1c8d91-8769-4fa3-94f1-0a3c5b05bb21",
   "metadata": {},
   "outputs": [
    {
     "data": {
      "text/plain": [
       "bedrooms         13\n",
       "bathrooms        30\n",
       "floors            6\n",
       "waterfront        2\n",
       "view              5\n",
       "condition         5\n",
       "grade            12\n",
       "yr_built        116\n",
       "yr_renovated     70\n",
       "zipcode          70\n",
       "dtype: int64"
      ]
     },
     "execution_count": 160,
     "metadata": {},
     "output_type": "execute_result"
    }
   ],
   "source": [
    "kc_house_df.iloc[:, categorical_vars_idx].nunique()"
   ]
  },
  {
   "cell_type": "code",
   "execution_count": 161,
   "id": "4311bdf8-e699-4511-b2bd-a148c112657d",
   "metadata": {},
   "outputs": [],
   "source": [
    "from sklearn.compose import ColumnTransformer\n",
    "from sklearn.pipeline import Pipeline, make_pipeline\n",
    "from sklearn.preprocessing import StandardScaler, OneHotEncoder\n",
    "from sklearn.linear_model import LogisticRegression, LogisticRegressionCV\n",
    "from sklearn.model_selection import train_test_split"
   ]
  },
  {
   "cell_type": "code",
   "execution_count": 162,
   "id": "a4f08d0f-3ccd-414a-a6b4-ddcbbb6568a3",
   "metadata": {},
   "outputs": [],
   "source": [
    "# Create transformer objects\n",
    "numeric_transformer = StandardScaler()\n",
    "categorical_transformer = OneHotEncoder()\n",
    "\n",
    "# Combine transformers into a preprocessor step\n",
    "preprocessor = ColumnTransformer(\n",
    "    transformers=[\n",
    "        ('num', numeric_transformer, numeric_vars),\n",
    "        ('cat', categorical_transformer, categorical_vars)])"
   ]
  },
  {
   "cell_type": "code",
   "execution_count": 163,
   "id": "51f7ecec-d61e-4d72-ad44-1464d82e2eee",
   "metadata": {},
   "outputs": [],
   "source": [
    "# separte predictors and target\n",
    "X = kc_house_df.iloc[:, 0:18]\n",
    "y = kc_house_df.iloc[:, 18]"
   ]
  },
  {
   "cell_type": "code",
   "execution_count": 164,
   "id": "f463e593-4fae-4646-aa8d-ffa86b283ee8",
   "metadata": {},
   "outputs": [
    {
     "data": {
      "text/plain": [
       "<bound method DataFrame.info of        bedrooms  bathrooms  sqft_living  sqft_lot  floors  waterfront  view  \\\n",
       "0             3       1.00         1180      5650     1.0           0     0   \n",
       "1             3       2.25         2570      7242     2.0           0     0   \n",
       "2             2       1.00          770     10000     1.0           0     0   \n",
       "3             4       3.00         1960      5000     1.0           0     0   \n",
       "4             3       2.00         1680      8080     1.0           0     0   \n",
       "...         ...        ...          ...       ...     ...         ...   ...   \n",
       "21608         3       2.50         1530      1131     3.0           0     0   \n",
       "21609         4       2.50         2310      5813     2.0           0     0   \n",
       "21610         2       0.75         1020      1350     2.0           0     0   \n",
       "21611         3       2.50         1600      2388     2.0           0     0   \n",
       "21612         2       0.75         1020      1076     2.0           0     0   \n",
       "\n",
       "       condition  grade  sqft_above  sqft_basement  yr_built  yr_renovated  \\\n",
       "0              3      7        1180              0      1955             0   \n",
       "1              3      7        2170            400      1951          1991   \n",
       "2              3      6         770              0      1933             0   \n",
       "3              5      7        1050            910      1965             0   \n",
       "4              3      8        1680              0      1987             0   \n",
       "...          ...    ...         ...            ...       ...           ...   \n",
       "21608          3      8        1530              0      2009             0   \n",
       "21609          3      8        2310              0      2014             0   \n",
       "21610          3      7        1020              0      2009             0   \n",
       "21611          3      8        1600              0      2004             0   \n",
       "21612          3      7        1020              0      2008             0   \n",
       "\n",
       "       zipcode      lat     long  sqft_living15  sqft_lot15  \n",
       "0        98178  47.5112 -122.257           1340        5650  \n",
       "1        98125  47.7210 -122.319           1690        7639  \n",
       "2        98028  47.7379 -122.233           2720        8062  \n",
       "3        98136  47.5208 -122.393           1360        5000  \n",
       "4        98074  47.6168 -122.045           1800        7503  \n",
       "...        ...      ...      ...            ...         ...  \n",
       "21608    98103  47.6993 -122.346           1530        1509  \n",
       "21609    98146  47.5107 -122.362           1830        7200  \n",
       "21610    98144  47.5944 -122.299           1020        2007  \n",
       "21611    98027  47.5345 -122.069           1410        1287  \n",
       "21612    98144  47.5941 -122.299           1020        1357  \n",
       "\n",
       "[21613 rows x 18 columns]>"
      ]
     },
     "execution_count": 164,
     "metadata": {},
     "output_type": "execute_result"
    }
   ],
   "source": [
    "X.info"
   ]
  },
  {
   "cell_type": "code",
   "execution_count": 165,
   "id": "1fd8d376-9262-4dc3-a9a1-0178a9cc9579",
   "metadata": {},
   "outputs": [],
   "source": [
    "# Partition training data into train and test\n",
    "X_train, X_test, y_train, y_test = train_test_split(X, y, test_size=0.2, random_state=73)"
   ]
  },
  {
   "cell_type": "code",
   "execution_count": 166,
   "id": "edff0ab2-ac78-448b-ae9f-911e7e1daab4",
   "metadata": {},
   "outputs": [
    {
     "data": {
      "text/plain": [
       "<bound method Series.info of 13067    0\n",
       "17417    0\n",
       "1290     0\n",
       "13137    0\n",
       "15815    0\n",
       "        ..\n",
       "13704    0\n",
       "16144    0\n",
       "8586     0\n",
       "4014     0\n",
       "21398    0\n",
       "Name: price_gt_1M, Length: 17290, dtype: int64>"
      ]
     },
     "execution_count": 166,
     "metadata": {},
     "output_type": "execute_result"
    }
   ],
   "source": [
    "y_train.info"
   ]
  },
  {
   "cell_type": "code",
   "execution_count": 167,
   "id": "310d6dc5-8d74-4741-a3f4-d9cc1eaf8170",
   "metadata": {},
   "outputs": [
    {
     "data": {
      "text/plain": [
       "<bound method DataFrame.info of        bedrooms  bathrooms  sqft_living  sqft_lot  floors  waterfront  view  \\\n",
       "13067         3       2.25         1670      7881     1.0           0     0   \n",
       "17417         5       2.75         3100      5298     2.0           0     0   \n",
       "1290          3       2.25         2470     10290     2.0           0     0   \n",
       "13137         3       1.75         2610    117176     1.0           0     0   \n",
       "15815         3       1.75         1400     18002     1.0           0     0   \n",
       "...         ...        ...          ...       ...     ...         ...   ...   \n",
       "13704         3       1.75         2200      7200     1.0           0     0   \n",
       "16144         4       2.50         2980      5896     2.0           0     0   \n",
       "8586          3       2.00         2420     17859     1.0           0     1   \n",
       "4014          3       1.75         2160      6272     1.0           0     0   \n",
       "21398         4       2.50         1660      2500     2.0           0     0   \n",
       "\n",
       "       condition  grade  sqft_above  sqft_basement  yr_built  yr_renovated  \\\n",
       "13067          4      7        1190            480      1977             0   \n",
       "17417          3      7        3100              0      2007             0   \n",
       "1290           3      8        2230            240      1984             0   \n",
       "13137          3      7        1390           1220      1981             0   \n",
       "15815          3      6        1400              0      1977             0   \n",
       "...          ...    ...         ...            ...       ...           ...   \n",
       "13704          3      8        1270            930      1962             0   \n",
       "16144          3      8        2980              0      2001             0   \n",
       "8586           5      9        1500            920      1979             0   \n",
       "4014           4      8        1390            770      1960             0   \n",
       "21398          3      7        1660              0      2007             0   \n",
       "\n",
       "       zipcode      lat     long  sqft_living15  sqft_lot15  \n",
       "13067    98031  47.4105 -122.180           1870        7820  \n",
       "17417    98065  47.5369 -121.887           2440        5250  \n",
       "1290     98058  47.4459 -122.124           1970       10150  \n",
       "13137    98022  47.2585 -121.925           2140      142005  \n",
       "15815    98019  47.7250 -121.967           2240       14068  \n",
       "...        ...      ...      ...            ...         ...  \n",
       "13704    98032  47.3745 -122.276           1800        8000  \n",
       "16144    98053  47.6872 -122.036           2900        5712  \n",
       "8586     98034  47.7074 -122.246           2955       17859  \n",
       "4014     98115  47.6777 -122.306           1290        5376  \n",
       "21398    98118  47.5437 -122.283           1030        5000  \n",
       "\n",
       "[17290 rows x 18 columns]>"
      ]
     },
     "execution_count": 167,
     "metadata": {},
     "output_type": "execute_result"
    }
   ],
   "source": [
    "X_train.info"
   ]
  },
  {
   "cell_type": "markdown",
   "id": "21fb25f3-5980-4ddd-9c60-baba45ea6449",
   "metadata": {
    "tags": []
   },
   "source": [
    "### Task 4 - Logistic regression models\n",
    "\n",
    "You are going to build a few different logistic regression models using all of the variables in our housing dataset. For each of these models you will:\n",
    "\n",
    "- Create a pipeline to do the preprocessing (the scaling and encoding) and the modeling (we did this in the Pump it Up project)\n",
    "- I'll be giving you different specifications and hyperparameter parameter settings to try\n",
    "- You'll be scoring the models on overall accuracy for both the training and test data. Discuss any evidence of overfitting or underfitting as well as how the model does in comparison to the null model.\n",
    "- There will be some additional tasks/questions for each model - details below\n",
    "\n",
    "**IMPORTANT** You always should put summary comments in one or more markdown cells. Do **NOT** write them as comments in a code cell. The whole point of Jupyter notebooks is to be able to mix markdown cells with code cells. Yes, you should also include code comments but those are different than analysis comments.\n",
    "\n",
    "#### Model 0: The null model\n",
    "\n",
    "We always start with the simplest possible model and we call it the *null model*. For binary classification models, the null model is usually just to predict that each observation will fall into whichever class is most prevalent. In other words, what would be the performance of a model in which we just predict 0 for everyone? Scikit-learn has a way to create simple null models for classification with the `sklearn.dummy.DummyClassifier` class. See https://scikit-learn.org/stable/modules/generated/sklearn.dummy.DummyClassifier.html for the details. You must use this class to create your null model.\n",
    "\n",
    "#### Model 1: Ridge regression with C=1.0\n",
    "\n",
    "Build a ridge regression model to predict `price_gt_1M` and use the default value of `C=1.0`. I used the following additional options with the `LogisticRegression` model - `solver='saga', max_iter=2000`. Feel free to change these if you want. AFter fitting the model, compute its accuracy score for training and test and write out a little summary (f-strings are useful). Here's an example:\n",
    "\n",
    "    Training score: 0.974\n",
    "    Test score: 0.971\n",
    "\n",
    "Create confusion matrices for both training and test.\n",
    "\n",
    "Also, create a plot of the coefficients (as we did in the notes). If you want to use that `coef_plot` function we used in the notes, you'll have\n",
    "to make a few modifications because we only have one set of coefficients (since we have a binary classification problem as opposed to a 3-class problem in Pump it Up).\n",
    "\n",
    "#### Model 2: Lasso regression with C=1.0\n",
    "\n",
    "Same as Model 1, but use lasso regression instead of ridge regression. Create the same outputs and compare the performance to the ridge regression model.\n",
    "\n",
    "#### Model 3: Lasso regression with C=0.01\n",
    "\n",
    "Fit another lasso regression but use `C=0.01`. Does this enforce more or less regularization? Create the same outputs and compare the performance to the first two models. Discuss why the plot looks so different than the previous plots.\n",
    "\n",
    "#### Model 4: Lasso regression with optimal C value\n",
    "\n",
    "Now use `LogisticRegressionCV` to fit a model and let sklearn determine the optimal `C` value to use. Again, compute the accuracy score and confusion matrices. Also, print out the optimal value of `C`. Does regularization help for this problem?\n",
    "\n",
    "### Task 5 - Simple decision tree\n",
    "Now fit a decision tree to predict `price_gt_1M`. As we did above, for both train and test, compute the accuracy score, create a confusion matrix, and discuss the performance relative to your logistic regression models. Obviously you do not need to create a coefficient plot (why not?). \n",
    "\n",
    "**HACKER EXTRA:** See if you can figure out how to display the fitted tree so that it's readable. :)\n",
    " \n",
    "\n",
    "\n"
   ]
  },
  {
   "cell_type": "code",
   "execution_count": 168,
   "id": "12756feb-5d36-4997-9b34-cd2919492f5a",
   "metadata": {},
   "outputs": [],
   "source": [
    "from sklearn.dummy import DummyClassifier"
   ]
  },
  {
   "cell_type": "code",
   "execution_count": 169,
   "id": "c79435d3-14b0-4558-bd31-c7621f8826f4",
   "metadata": {},
   "outputs": [],
   "source": [
    "# Create transformer objects\n",
    "numeric_transformer = StandardScaler()\n",
    "categorical_transformer = OneHotEncoder(handle_unknown='ignore')\n",
    "\n",
    "# Combine transformers into a preprocessor step\n",
    "preprocessor = ColumnTransformer(\n",
    "    transformers=[\n",
    "        ('num', numeric_transformer, numeric_vars),\n",
    "        ('cat', categorical_transformer, categorical_vars)])\n",
    "\n",
    "# Classifier model 0 (null)\n",
    "clf_model = DummyClassifier(strategy=\"most_frequent\") \n",
    "\n",
    "# Append classifier to preprocessing pipeline.\n",
    "# Now we have a full prediction pipeline.\n",
    "clf = Pipeline(steps=[('preprocessor', preprocessor),\n",
    "                      ('classifier', clf_model)])"
   ]
  },
  {
   "cell_type": "code",
   "execution_count": 170,
   "id": "827f3892-8a7b-4c7d-bb19-02fc83de2757",
   "metadata": {},
   "outputs": [
    {
     "name": "stdout",
     "output_type": "stream",
     "text": [
      "Training score: 0.933\n",
      "Test score: 0.924\n"
     ]
    }
   ],
   "source": [
    "clf.fit(X_train, y_train)\n",
    "\n",
    "print(f\"Training score: {clf.score(X_train, y_train):.3f}\")\n",
    "print(f\"Test score: {clf.score(X_test, y_test):.3f}\")"
   ]
  },
  {
   "cell_type": "markdown",
   "id": "0760d064-dedc-4f97-8e76-171af04be654",
   "metadata": {},
   "source": [
    "The null model it pretty good because our data is unbalanced 92% with the test data is good so other models will at least need to meet that level of accuracy. The accuracy score can also be missleading so we will need to create confusiton matrices and possibly calculate some other metrix."
   ]
  },
  {
   "cell_type": "markdown",
   "id": "812ba8a9-5cc5-40f8-a339-43b61a6814a3",
   "metadata": {},
   "source": [
    "## Model 1: L2 C = 1"
   ]
  },
  {
   "cell_type": "code",
   "execution_count": 171,
   "id": "2341c3d8-6591-4d0f-a250-e640bd104a93",
   "metadata": {},
   "outputs": [],
   "source": [
    "#Create transformer objects\n",
    "numeric_transformer = StandardScaler()\n",
    "categorical_transformer = OneHotEncoder(handle_unknown='ignore')\n",
    "\n",
    "# Combine transformers into a preprocessor step\n",
    "preprocessor = ColumnTransformer(\n",
    "    transformers=[\n",
    "        ('num', numeric_transformer, numeric_vars),\n",
    "        ('cat', categorical_transformer, categorical_vars)])\n",
    "\n",
    "# Classifier model 1 \n",
    "clf_l2_C1 = LogisticRegression(penalty='l2', C=1, solver='saga', max_iter=500)\n",
    "\n",
    "# Append classifier to preprocessing pipeline.\n",
    "# Now we have a full prediction pipeline.\n",
    "clf_l2_C1 = Pipeline(steps=[('preprocessor', preprocessor),\n",
    "                      ('classifier', clf_l2_C1)])"
   ]
  },
  {
   "cell_type": "code",
   "execution_count": 172,
   "id": "dace2b3c-a589-413f-ae05-2ecd11b94afc",
   "metadata": {},
   "outputs": [
    {
     "name": "stdout",
     "output_type": "stream",
     "text": [
      "Training score: 0.977\n",
      "Test score: 0.969\n"
     ]
    },
    {
     "name": "stderr",
     "output_type": "stream",
     "text": [
      "/Users/anthonystronati/anaconda3/envs/aap/lib/python3.11/site-packages/sklearn/linear_model/_sag.py:350: ConvergenceWarning: The max_iter was reached which means the coef_ did not converge\n",
      "  warnings.warn(\n"
     ]
    }
   ],
   "source": [
    "clf_l2_C1.fit(X_train, y_train)\n",
    "\n",
    "print(f\"Training score: {clf_l2_C1.score(X_train, y_train):.3f}\")\n",
    "print(f\"Test score: {clf_l2_C1.score(X_test, y_test):.3f}\")"
   ]
  },
  {
   "cell_type": "markdown",
   "id": "b311007e-710c-4b9c-a7a8-34997609d167",
   "metadata": {},
   "source": [
    "Well, its perfect. this model was able to predict if the price of a house was either 1 - house price is greater than or equal to 1 million dollars or 0 - house price is less than a million dollars."
   ]
  },
  {
   "cell_type": "code",
   "execution_count": 173,
   "id": "081d1326-2013-46b1-82ea-26a461f0bf3d",
   "metadata": {},
   "outputs": [],
   "source": [
    "from sklearn.metrics import confusion_matrix, ConfusionMatrixDisplay"
   ]
  },
  {
   "cell_type": "code",
   "execution_count": 174,
   "id": "b2871aa7-5580-4d20-a9dd-f29ff77eeb1c",
   "metadata": {},
   "outputs": [
    {
     "name": "stdout",
     "output_type": "stream",
     "text": [
      "Confusion Matrix:\n",
      "[[16016   111]\n",
      " [  288   875]]\n"
     ]
    }
   ],
   "source": [
    "y_pred = clf_l2_C1.predict(X_train)\n",
    "cm_clf_l2_C1_train = confusion_matrix(y_train, y_pred)\n",
    "print(\"Confusion Matrix:\")\n",
    "print(cm_clf_l2_C1_train)"
   ]
  },
  {
   "cell_type": "code",
   "execution_count": 175,
   "id": "9986096b-768b-4eab-a0d8-acd28b2308d9",
   "metadata": {},
   "outputs": [
    {
     "name": "stdout",
     "output_type": "stream",
     "text": [
      "Confusion Matrix:\n",
      "[[3959   35]\n",
      " [  97  232]]\n"
     ]
    },
    {
     "data": {
      "image/png": "[encoded data removed]",
      "text/plain": [
       "<Figure size 640x480 with 2 Axes>"
      ]
     },
     "metadata": {},
     "output_type": "display_data"
    }
   ],
   "source": [
    "y_pred = clf_l2_C1.predict(X_test)\n",
    "cm_clf_l2_C1_test = confusion_matrix(y_test, y_pred)\n",
    "print(\"Confusion Matrix:\")\n",
    "print(cm_clf_l2_C1_test)\n",
    "\n",
    "# make it look nice\n",
    "disp = ConfusionMatrixDisplay(confusion_matrix=cm_clf_l2_C1_test, display_labels=clf.classes_)\n",
    "disp.plot()\n",
    "plt.show()\n"
   ]
  },
  {
   "cell_type": "markdown",
   "id": "e84eab26-4ef0-4991-a917-0fe88aeaec65",
   "metadata": {},
   "source": [
    "The confusion matrix shows us how all the cases were classified correctly."
   ]
  },
  {
   "cell_type": "code",
   "execution_count": 176,
   "id": "c067bbbd-045a-49fd-b36c-64909a8c803e",
   "metadata": {},
   "outputs": [
    {
     "data": {
      "text/plain": [
       "(1, 334)"
      ]
     },
     "execution_count": 176,
     "metadata": {},
     "output_type": "execute_result"
    }
   ],
   "source": [
    "clf_l2_C1.named_steps['classifier'].coef_.shape"
   ]
  },
  {
   "cell_type": "code",
   "execution_count": 177,
   "id": "5db0c844-3cba-4c02-999e-ecfca7f55a19",
   "metadata": {},
   "outputs": [
    {
     "data": {
      "text/plain": [
       "('classifier', LogisticRegression(C=1, max_iter=500, solver='saga'))"
      ]
     },
     "execution_count": 177,
     "metadata": {},
     "output_type": "execute_result"
    }
   ],
   "source": [
    "clf_l2_C1.steps[1]"
   ]
  },
  {
   "cell_type": "code",
   "execution_count": 178,
   "id": "04868bf8-e710-4e2f-b92f-1bef7c96969f",
   "metadata": {},
   "outputs": [],
   "source": [
    "def coef_plot(model, title=None):\n",
    "    fig, ax = plt.subplots(1)\n",
    "       \n",
    "    if title:\n",
    "        ax.set_title(title)\n",
    "\n",
    "    ax.plot(model.named_steps['classifier'].coef_[0])\n"
   ]
  },
  {
   "cell_type": "code",
   "execution_count": 179,
   "id": "ccc8a789-d10b-47aa-b10b-eb7e2c8474c8",
   "metadata": {},
   "outputs": [
    {
     "data": {
      "image/png": "[encoded data removed]",
      "text/plain": [
       "<Figure size 640x480 with 1 Axes>"
      ]
     },
     "metadata": {},
     "output_type": "display_data"
    }
   ],
   "source": [
    "coef_plot(clf_l2_C1, 'L2, C=1.0')"
   ]
  },
  {
   "cell_type": "markdown",
   "id": "b94e8316-6bd0-4b0f-8333-ecf4e50b0663",
   "metadata": {},
   "source": [
    "## Model 2: L1 C = 1"
   ]
  },
  {
   "cell_type": "code",
   "execution_count": 180,
   "id": "a371aeef-fc72-4d60-bc52-bb2045d70be7",
   "metadata": {},
   "outputs": [],
   "source": [
    "#Create transformer objects\n",
    "numeric_transformer = StandardScaler()\n",
    "categorical_transformer = OneHotEncoder(handle_unknown='ignore')\n",
    "\n",
    "# Combine transformers into a preprocessor step\n",
    "preprocessor = ColumnTransformer(\n",
    "    transformers=[\n",
    "        ('num', numeric_transformer, numeric_vars),\n",
    "        ('cat', categorical_transformer, categorical_vars)])\n",
    "\n",
    "# Classifier model 2 \n",
    "clf_l1_C1 = LogisticRegression(penalty='l1', C=1, solver='saga', max_iter=500)\n",
    "\n",
    "# Append classifier to preprocessing pipeline.\n",
    "# Now we have a full prediction pipeline.\n",
    "clf_l1_C1 = Pipeline(steps=[('preprocessor', preprocessor),\n",
    "                      ('classifier', clf_l1_C1)])"
   ]
  },
  {
   "cell_type": "code",
   "execution_count": 181,
   "id": "309ab3ff-6d9b-4356-8f4f-2a513d1a930f",
   "metadata": {},
   "outputs": [
    {
     "name": "stdout",
     "output_type": "stream",
     "text": [
      "Training score: 0.977\n",
      "Test score: 0.971\n"
     ]
    },
    {
     "name": "stderr",
     "output_type": "stream",
     "text": [
      "/Users/anthonystronati/anaconda3/envs/aap/lib/python3.11/site-packages/sklearn/linear_model/_sag.py:350: ConvergenceWarning: The max_iter was reached which means the coef_ did not converge\n",
      "  warnings.warn(\n"
     ]
    }
   ],
   "source": [
    "clf_l1_C1.fit(X_train, y_train)\n",
    "\n",
    "print(f\"Training score: {clf_l1_C1.score(X_train, y_train):.3f}\")\n",
    "print(f\"Test score: {clf_l1_C1.score(X_test, y_test):.3f}\")"
   ]
  },
  {
   "cell_type": "code",
   "execution_count": 182,
   "id": "2fd26b49-2ed3-4cfa-ab71-97f4c9cd375b",
   "metadata": {},
   "outputs": [
    {
     "name": "stdout",
     "output_type": "stream",
     "text": [
      "Confusion Matrix:\n",
      "[[16010   117]\n",
      " [  288   875]]\n"
     ]
    }
   ],
   "source": [
    "y_pred = clf_l1_C1.predict(X_train)\n",
    "cm_clf_l1_C1_train = confusion_matrix(y_train, y_pred)\n",
    "print(\"Confusion Matrix:\")\n",
    "print(cm_clf_l1_C1_train)"
   ]
  },
  {
   "cell_type": "code",
   "execution_count": 183,
   "id": "acb6d670-c10b-4785-87a3-c1822ce0cb9e",
   "metadata": {},
   "outputs": [
    {
     "name": "stdout",
     "output_type": "stream",
     "text": [
      "Confusion Matrix:\n",
      "[[3963   31]\n",
      " [  93  236]]\n"
     ]
    },
    {
     "data": {
      "image/png": "[encoded data removed]",
      "text/plain": [
       "<Figure size 640x480 with 2 Axes>"
      ]
     },
     "metadata": {},
     "output_type": "display_data"
    }
   ],
   "source": [
    "y_pred = clf_l1_C1.predict(X_test)\n",
    "cm_clf_l1_C1_test = confusion_matrix(y_test, y_pred)\n",
    "print(\"Confusion Matrix:\")\n",
    "print(cm_clf_l1_C1_test)\n",
    "\n",
    "disp = ConfusionMatrixDisplay(confusion_matrix=cm_clf_l1_C1_test, display_labels=clf.classes_)\n",
    "disp.plot()\n",
    "plt.show()"
   ]
  },
  {
   "cell_type": "code",
   "execution_count": 184,
   "id": "745dfc3f-4a0e-4d91-bae0-ffd25258fc15",
   "metadata": {},
   "outputs": [
    {
     "data": {
      "image/png": "[encoded data removed]",
      "text/plain": [
       "<Figure size 640x480 with 1 Axes>"
      ]
     },
     "metadata": {},
     "output_type": "display_data"
    }
   ],
   "source": [
    "coef_plot(clf_l1_C1, 'L2, C=1.0')"
   ]
  },
  {
   "cell_type": "markdown",
   "id": "d2516b85-defd-4898-9215-0c4a7674cbd5",
   "metadata": {},
   "source": [
    "## Model 3: L1 C = .01"
   ]
  },
  {
   "cell_type": "code",
   "execution_count": 185,
   "id": "9854cb13-fb85-4b70-8f8b-6b8dbd5c90cb",
   "metadata": {},
   "outputs": [],
   "source": [
    "#Create transformer objects\n",
    "numeric_transformer = StandardScaler()\n",
    "categorical_transformer = OneHotEncoder(handle_unknown='ignore')\n",
    "\n",
    "# Combine transformers into a preprocessor step\n",
    "preprocessor = ColumnTransformer(\n",
    "    transformers=[\n",
    "        ('num', numeric_transformer, numeric_vars),\n",
    "        ('cat', categorical_transformer, categorical_vars)])\n",
    "\n",
    "# Classifier model 3 \n",
    "clf_l1_C01 = LogisticRegression(penalty='l1', C=0.01, solver='saga', max_iter=500)\n",
    "\n",
    "# Append classifier to preprocessing pipeline.\n",
    "# Now we have a full prediction pipeline.\n",
    "clf_l1_C01 = Pipeline(steps=[('preprocessor', preprocessor),\n",
    "                      ('classifier', clf_l1_C01)])"
   ]
  },
  {
   "cell_type": "code",
   "execution_count": 186,
   "id": "78017a9e-6134-4016-9c90-870a8d2ac1be",
   "metadata": {},
   "outputs": [
    {
     "name": "stdout",
     "output_type": "stream",
     "text": [
      "Training score: 0.954\n",
      "Test score: 0.949\n"
     ]
    },
    {
     "name": "stderr",
     "output_type": "stream",
     "text": [
      "/Users/anthonystronati/anaconda3/envs/aap/lib/python3.11/site-packages/sklearn/linear_model/_sag.py:350: ConvergenceWarning: The max_iter was reached which means the coef_ did not converge\n",
      "  warnings.warn(\n"
     ]
    }
   ],
   "source": [
    "clf_l1_C01.fit(X_train, y_train)\n",
    "\n",
    "print(f\"Training score: {clf_l1_C01.score(X_train, y_train):.3f}\")\n",
    "print(f\"Test score: {clf_l1_C01.score(X_test, y_test):.3f}\")"
   ]
  },
  {
   "cell_type": "code",
   "execution_count": 187,
   "id": "132dc280-ccf1-49ff-ac3f-4d01525af22f",
   "metadata": {},
   "outputs": [
    {
     "name": "stdout",
     "output_type": "stream",
     "text": [
      "Confusion Matrix:\n",
      "[[16002   125]\n",
      " [  665   498]]\n"
     ]
    }
   ],
   "source": [
    "y_pred = clf_l1_C01.predict(X_train)\n",
    "cm_clf_l1_C01_train = confusion_matrix(y_train, y_pred)\n",
    "print(\"Confusion Matrix:\")\n",
    "print(cm_clf_l1_C01_train)"
   ]
  },
  {
   "cell_type": "code",
   "execution_count": 188,
   "id": "4664acd7-4472-4052-a243-c8cba3cd74a3",
   "metadata": {},
   "outputs": [
    {
     "name": "stdout",
     "output_type": "stream",
     "text": [
      "Confusion Matrix:\n",
      "[[3964   30]\n",
      " [ 191  138]]\n"
     ]
    },
    {
     "data": {
      "image/png": "[encoded data removed]",
      "text/plain": [
       "<Figure size 640x480 with 2 Axes>"
      ]
     },
     "metadata": {},
     "output_type": "display_data"
    }
   ],
   "source": [
    "y_pred = clf_l1_C01.predict(X_test)\n",
    "cm_clf_l1_C01_test = confusion_matrix(y_test, y_pred)\n",
    "print(\"Confusion Matrix:\")\n",
    "print(cm_clf_l1_C01_test)\n",
    "\n",
    "disp = ConfusionMatrixDisplay(confusion_matrix=cm_clf_l1_C01_test, display_labels=clf.classes_)\n",
    "disp.plot()\n",
    "plt.show()"
   ]
  },
  {
   "cell_type": "code",
   "execution_count": 189,
   "id": "283b1227-0431-494a-9f1e-f74fd5f35fe5",
   "metadata": {},
   "outputs": [
    {
     "data": {
      "image/png": "[encoded data removed]",
      "text/plain": [
       "<Figure size 640x480 with 1 Axes>"
      ]
     },
     "metadata": {},
     "output_type": "display_data"
    }
   ],
   "source": [
    "coef_plot(clf_l1_C01, 'L1, C=0.01')"
   ]
  },
  {
   "cell_type": "markdown",
   "id": "02a87e06-5718-4f0c-aef7-ca161c8f633f",
   "metadata": {},
   "source": [
    "## Model 4: L1 C = \"Optimal\""
   ]
  },
  {
   "cell_type": "code",
   "execution_count": 190,
   "id": "1bd5b189-a519-4a5b-bf30-21f5478723fa",
   "metadata": {},
   "outputs": [],
   "source": [
    "from sklearn.linear_model import LogisticRegressionCV"
   ]
  },
  {
   "cell_type": "code",
   "execution_count": 191,
   "id": "1c3825b1-7c69-42b2-b169-32f9df189134",
   "metadata": {},
   "outputs": [],
   "source": [
    "# Example with a range of C values\n",
    "Cs = np.logspace(-3, 3, 7)  # C values will be [0.001, 0.01, 0.1, 1, 10, 100, 1000]"
   ]
  },
  {
   "cell_type": "code",
   "execution_count": null,
   "id": "866ab5f3-a99b-4126-bfe2-22b8259e857b",
   "metadata": {},
   "outputs": [],
   "source": [
    "#Create transformer objects\n",
    "numeric_transformer = StandardScaler()\n",
    "categorical_transformer = OneHotEncoder(handle_unknown='ignore')\n",
    "\n",
    "# Combine transformers into a preprocessor step\n",
    "preprocessor = ColumnTransformer(\n",
    "    transformers=[\n",
    "        ('num', numeric_transformer, numeric_vars),\n",
    "        ('cat', categorical_transformer, categorical_vars)])\n",
    "\n",
    "# Classifier model 3 \n",
    "clf_optimize = LogisticRegressionCV(Cs=Cs, penalty='l1', cv=5, solver='saga', max_iter=500)\n",
    "\n",
    "# Append classifier to preprocessing pipeline.\n",
    "# Now we have a full prediction pipeline.\n",
    "clf_optimize = Pipeline(steps=[('preprocessor', preprocessor),\n",
    "                      ('classifier', clf_optimize)])"
   ]
  },
  {
   "cell_type": "code",
   "execution_count": null,
   "id": "d3bbf7b9-e028-4440-af60-9518605dcfa3",
   "metadata": {},
   "outputs": [],
   "source": [
    "clf_optimize.fit(X_train, y_train)"
   ]
  },
  {
   "cell_type": "code",
   "execution_count": 208,
   "id": "943262df-969d-4460-b70d-2e3c72fe9a1c",
   "metadata": {},
   "outputs": [
    {
     "name": "stdout",
     "output_type": "stream",
     "text": [
      "Best C: 100.0\n"
     ]
    }
   ],
   "source": [
    "best_C = clf_optimize.C_[0]\n",
    "print(\"Best C:\", best_C)"
   ]
  },
  {
   "cell_type": "code",
   "execution_count": 211,
   "id": "999c0b8a-3f1d-4413-9474-e2a2fb5d84f7",
   "metadata": {},
   "outputs": [],
   "source": [
    "#Create transformer objects\n",
    "numeric_transformer = StandardScaler()\n",
    "categorical_transformer = OneHotEncoder(handle_unknown='ignore')\n",
    "\n",
    "# Combine transformers into a preprocessor step\n",
    "preprocessor = ColumnTransformer(\n",
    "    transformers=[\n",
    "        ('num', numeric_transformer, numeric_vars),\n",
    "        ('cat', categorical_transformer, categorical_vars)])\n",
    "\n",
    "# Classifier model 2 \n",
    "clf_l1_C100 = LogisticRegression(penalty='l1', C=10, solver='saga', max_iter=500)\n",
    "\n",
    "# Append classifier to preprocessing pipeline.\n",
    "# Now we have a full prediction pipeline.\n",
    "clf_l1_C100 = Pipeline(steps=[('preprocessor', preprocessor),\n",
    "                      ('classifier', clf_l1_C100)])"
   ]
  },
  {
   "cell_type": "code",
   "execution_count": 212,
   "id": "97c10073-8219-4d79-acea-7573e4a37818",
   "metadata": {},
   "outputs": [
    {
     "name": "stdout",
     "output_type": "stream",
     "text": [
      "Training score: 0.977\n",
      "Test score: 0.970\n"
     ]
    },
    {
     "name": "stderr",
     "output_type": "stream",
     "text": [
      "/Users/anthonystronati/anaconda3/envs/aap/lib/python3.11/site-packages/sklearn/linear_model/_sag.py:350: ConvergenceWarning: The max_iter was reached which means the coef_ did not converge\n",
      "  warnings.warn(\n"
     ]
    }
   ],
   "source": [
    "clf_l1_C100.fit(X_train, y_train)\n",
    "\n",
    "print(f\"Training score: {clf_l1_C100.score(X_train, y_train):.3f}\")\n",
    "print(f\"Test score: {clf_l1_C100.score(X_test, y_test):.3f}\")"
   ]
  },
  {
   "cell_type": "code",
   "execution_count": 197,
   "id": "38c3c2c8-def9-4b37-8c5e-3771986c43dc",
   "metadata": {},
   "outputs": [
    {
     "name": "stdout",
     "output_type": "stream",
     "text": [
      "Confusion Matrix:\n",
      "[[16002   125]\n",
      " [  269   894]]\n"
     ]
    }
   ],
   "source": [
    "y_pred = clf_l1_C100.predict(X_train)\n",
    "cm_clf_l1_C100_train = confusion_matrix(y_train, y_pred)\n",
    "print(\"Confusion Matrix:\")\n",
    "print(cm_clf_l1_C100_train)"
   ]
  },
  {
   "cell_type": "code",
   "execution_count": 198,
   "id": "077b586a-970b-4b60-94a8-abe6397f3e94",
   "metadata": {},
   "outputs": [
    {
     "name": "stdout",
     "output_type": "stream",
     "text": [
      "Confusion Matrix:\n",
      "[[3957   37]\n",
      " [  96  233]]\n"
     ]
    },
    {
     "data": {
      "image/png": "[encoded data removed]",
      "text/plain": [
       "<Figure size 640x480 with 2 Axes>"
      ]
     },
     "metadata": {},
     "output_type": "display_data"
    }
   ],
   "source": [
    "y_pred = clf_l1_C100.predict(X_test)\n",
    "cm_clf_l1_C100_test = confusion_matrix(y_test, y_pred)\n",
    "print(\"Confusion Matrix:\")\n",
    "print(cm_clf_l1_C100_test)\n",
    "\n",
    "disp = ConfusionMatrixDisplay(confusion_matrix=cm_clf_l1_C100_test, display_labels=clf.classes_)\n",
    "disp.plot()\n",
    "plt.show()"
   ]
  },
  {
   "cell_type": "code",
   "execution_count": 199,
   "id": "fbe62c41-0d89-4746-87bd-4e0388b8e08c",
   "metadata": {},
   "outputs": [
    {
     "data": {
      "image/png": "[encoded data removed]",
      "text/plain": [
       "<Figure size 640x480 with 1 Axes>"
      ]
     },
     "metadata": {},
     "output_type": "display_data"
    }
   ],
   "source": [
    "coef_plot(clf_l1_C100, 'L1, C=100')"
   ]
  },
  {
   "cell_type": "markdown",
   "id": "543a7ee3-b478-4d2e-8b7c-57da4687642c",
   "metadata": {},
   "source": [
    "Regularizatin does not help in this model."
   ]
  },
  {
   "cell_type": "markdown",
   "id": "84735dd0-cec7-44f1-a7da-ca07ccd4f243",
   "metadata": {},
   "source": [
    "## Model 5: Decision Tree"
   ]
  },
  {
   "cell_type": "code",
   "execution_count": 200,
   "id": "fa67853f-0d85-4a98-b670-be8dcc23945f",
   "metadata": {},
   "outputs": [],
   "source": [
    "from sklearn.tree import DecisionTreeClassifier\n",
    "\n",
    "#Create transformer objects\n",
    "numeric_transformer = StandardScaler()\n",
    "categorical_transformer = OneHotEncoder(handle_unknown='ignore')\n",
    "\n",
    "# Combine transformers into a preprocessor step\n",
    "preprocessor = ColumnTransformer(\n",
    "    transformers=[\n",
    "        ('num', numeric_transformer, numeric_vars),\n",
    "        ('cat', categorical_transformer, categorical_vars)])\n",
    "\n",
    "# Classifier model 2 \n",
    "clf_tree = DecisionTreeClassifier(random_state=0)\n",
    "\n",
    "# Append classifier to preprocessing pipeline.\n",
    "# Now we have a full prediction pipeline.\n",
    "clf_tree = Pipeline(steps=[('preprocessor', preprocessor),\n",
    "                      ('classifier', clf_tree)])"
   ]
  },
  {
   "cell_type": "code",
   "execution_count": 201,
   "id": "bf5aca3b-48af-4810-9139-79126896e0e9",
   "metadata": {},
   "outputs": [
    {
     "name": "stdout",
     "output_type": "stream",
     "text": [
      "Training score: 0.977\n",
      "Test score: 0.969\n"
     ]
    }
   ],
   "source": [
    "clf_tree.fit(X_train, y_train)\n",
    "\n",
    "print(f\"Training score: {clf_l1_C100.score(X_train, y_train):.3f}\")\n",
    "print(f\"Test score: {clf_l1_C100.score(X_test, y_test):.3f}\")"
   ]
  },
  {
   "cell_type": "code",
   "execution_count": 204,
   "id": "f73b875e-dc54-4fd7-adb2-5b91db3c3842",
   "metadata": {},
   "outputs": [
    {
     "name": "stdout",
     "output_type": "stream",
     "text": [
      "Confusion Matrix:\n",
      "[[16002   125]\n",
      " [  269   894]]\n"
     ]
    }
   ],
   "source": [
    "y_pred = clf_l1_C100.predict(X_train)\n",
    "cm_clf_tree_train = confusion_matrix(y_train, y_pred)\n",
    "print(\"Confusion Matrix:\")\n",
    "print(cm_clf_tree_train)"
   ]
  },
  {
   "cell_type": "code",
   "execution_count": 205,
   "id": "47f43b26-934f-42f9-b1e7-646c9d10d67d",
   "metadata": {},
   "outputs": [
    {
     "name": "stdout",
     "output_type": "stream",
     "text": [
      "Confusion Matrix:\n",
      "[[3908   86]\n",
      " [  92  237]]\n"
     ]
    },
    {
     "data": {
      "image/png": "[encoded data removed]",
      "text/plain": [
       "<Figure size 640x480 with 2 Axes>"
      ]
     },
     "metadata": {},
     "output_type": "display_data"
    }
   ],
   "source": [
    "y_pred = clf_tree.predict(X_test)\n",
    "cm_clf_tree_test = confusion_matrix(y_test, y_pred)\n",
    "print(\"Confusion Matrix:\")\n",
    "print(cm_clf_tree_test)\n",
    "\n",
    "disp = ConfusionMatrixDisplay(confusion_matrix=cm_clf_tree_test, display_labels=clf.classes_)\n",
    "disp.plot()\n",
    "plt.show()"
   ]
  },
  {
   "cell_type": "markdown",
   "id": "70793e38-4f88-4777-82a7-7db804c1a77d",
   "metadata": {},
   "source": [
    "### Task 6 - a little error exploration (more challenging)\n",
    "\n",
    "This will challenge your pandas and your general data manipulation skills. Just give it your best shot. If you don't get, you don't get it. It doesn't require much code - just the right code. :)\n",
    "\n",
    "I also include another data file called `kc_house_data_regression.csv` in which the target variable is `price`. Everything else is exactly the same, including the order of the rows. So, here's your challenge. Using Model 2 (the lasso model with `C=1.0`), start by using the `predict` method to generate an array of predictions for the original test data. Obviously, some of the predictions are correct and some of them are not. It would be interesting to know more about the kinds of errors our model is making. We can see some things from the confusion matrix. However, since we don't have the actual `price` value, it's hard to visualize how the errors relate to it. For example, are we only making errors when the price is really close to 1 million? One way to visualize this is to create a histogram of the actual prices **only for those rows in test that we got wrong**. What makes this tricky? A few things:\n",
    "\n",
    "* As I already mentioned, `price` is not in our original data but is in the `kc_house_data_regression.csv` dataset. Remember, other than the target variable, this dataset is identical (including the index) to the one we used above for classification.\n",
    "* We partitioned the classification dataset into training and test datasets.\n",
    "* In order to create the histogram, we simply need a Series (or array) of `price` values corresponding to the predictions in test that we got wrong.\n",
    "\n",
    "**HINTS** \n",
    "\n",
    "* The pandas `join` method will come in handy.\n",
    "* The pandas `.loc` selector can take a boolean array as an input for selecting rows or columns. Using one to select rows is quite useful for this problem."
   ]
  },
  {
   "cell_type": "markdown",
   "id": "a026c076",
   "metadata": {},
   "source": [
    "## Optional Hacker Extra Credit tasks\n",
    "I always like to include some extra credit tasks for those who want to push themselves a little further. For this problem, consider doing one or more of the following:\n",
    "\n",
    "* Try out the [Histogram based Gradient Boosting Classifier](https://scikit-learn.org/stable/modules/generated/sklearn.ensemble.HistGradientBoostingClassifier.html?highlight=histogram%20based%20gradient%20boosting%20classifier) shown in the optional materials at the end of Module 2. Compare its performance to logistic regression and the random forest.\n",
    "* I also include another data file called `kc_house_data_regression.csv` in which the target variable is `price`. Use sklearn's `LassoCV` to find a good regression model for predicting `price`."
   ]
  },
  {
   "cell_type": "markdown",
   "id": "ca32e527",
   "metadata": {},
   "source": [
    "## Deliverables\n",
    "You should simply compress your entire project folder as either a zip file or a tar.gz file (do **NOT** ever use WinRAR to create rar files in this class). Note that when you do this, your \"hidden\" `.git` folder will get included. So, I'll be able to tell that you put the project under version control and I'll be able to look at your project folder structure. Before compressing the project folder to submit it:\n",
    "\n",
    "* make sure all of your notebooks and other files are in the main project folder and have good filenames,\n",
    "* make sure you've committed all of your changes (git),\n",
    "* upload your compressed folder in Moodle."
   ]
  },
  {
   "cell_type": "code",
   "execution_count": null,
   "id": "c6a0ad2e",
   "metadata": {},
   "outputs": [],
   "source": []
  }
 ],
 "metadata": {
  "kernelspec": {
   "display_name": "Python [conda env:aap]",
   "language": "python",
   "name": "conda-env-aap-py"
  },
  "language_info": {
   "codemirror_mode": {
    "name": "ipython",
    "version": 3
   },
   "file_extension": ".py",
   "mimetype": "text/x-python",
   "name": "python",
   "nbconvert_exporter": "python",
   "pygments_lexer": "ipython3",
   "version": "3.11.3"
  },
  "toc-autonumbering": false,
  "toc-showmarkdowntxt": false
 },
 "nbformat": 4,
 "nbformat_minor": 5
}
